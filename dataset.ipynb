{
 "cells": [
  {
   "cell_type": "code",
   "execution_count": 1,
   "id": "a546afc3",
   "metadata": {},
   "outputs": [],
   "source": [
    "import torch\n",
    "import os\n",
    "import pandas as pd\n",
    "from PIL import Image\n",
    "import cv2"
   ]
  },
  {
   "cell_type": "code",
   "execution_count": 2,
   "id": "3b197d59",
   "metadata": {},
   "outputs": [],
   "source": [
    "class VOCDataset(torch.utils.data.Dataset):\n",
    "    def __init__(self, csv_file, image_dir, label_dir, S=7, B=2, C=20, transform=None):\n",
    "        super().__init__()\n",
    "        self.S = S\n",
    "        self.B = B\n",
    "        self.C = C\n",
    "        self.image_dir = image_dir\n",
    "        self.label_dir = label_dir\n",
    "        self.transform = transform\n",
    "        \n",
    "        self.annonations = pd.read_csv(csv_file)\n",
    "            \n",
    "    def __len__(self):\n",
    "        return len(self.annonations)\n",
    "\n",
    "    def __getitem__(self, idx):\n",
    "        label_path = os.path.join(self.label_dir, self.annonations.iloc[idx, 1])\n",
    "        image_path = os.path.join(self.image_dir, self.annonations.iloc[idx, 0])\n",
    "        \n",
    "        boxes = []\n",
    "        label_path = os.path.join(self.label_dir, self.annonations.iloc[idx, 1])\n",
    "        with open(label_path) as f:\n",
    "            for label in f.readlines():\n",
    "                class_label, x, y, width, height = [\n",
    "                    float(i) if float(i) != int(float(i)) else int(i)\n",
    "                    for i in label.replace('\\n','').split()\n",
    "                ]\n",
    "                boxes.append([class_label, x, y, width, height])\n",
    "                \n",
    "        image = Image.open(image_path)\n",
    "        \n",
    "        if self.transform:\n",
    "            boxes = torch.tensor(boxes)\n",
    "            image, boxes = self.transform(image, boxes)\n",
    "            boxes = boxes.tolist()\n",
    "        \n",
    "        label_matrix = torch.zeros((self.S, self.S, self.C+self.B*5))\n",
    "        for box in boxes:\n",
    "            i, j = int(self.S * y), int(self.S * x)\n",
    "            x_cell, y_cell = self.S * x - j, self.S * y - i\n",
    "            \n",
    "            width_cell, height_cell = width * self.S, height * self.S\n",
    "            \n",
    "            if label_matrix[i, j, 20] == 0:\n",
    "                label_matrix[i, j, 20] = 1\n",
    "                \n",
    "                box_coordinates = torch.tensor(\n",
    "                    [x_cell, y_cell, width_cell, height_cell]\n",
    "                )\n",
    "                \n",
    "                label_matrix[i, j, 21:25] = box_coordinates\n",
    "                \n",
    "                label_matrix[i, j, class_label] = 1\n",
    "                \n",
    "        return image, label_matrix\n",
    "            \n",
    "\n",
    "                \n",
    " \n",
    "    def _test_func(self, idx):\n",
    "        boxes = []\n",
    "        label_path = os.path.join(self.label_dir, self.annonations.iloc[idx, 1])\n",
    "        with open(label_path) as f:\n",
    "            for label in f.readlines():\n",
    "                class_label, x, y, width, height = [\n",
    "                    float(i) if float(i) != int(float(i)) else int(i)\n",
    "                    for i in label.replace('\\n','').split()\n",
    "                ]\n",
    "                boxes.append([class_label, x, y, width, height])\n",
    "\n",
    "        return boxes    \n",
    "                \n",
    "            \n",
    "            \n",
    "            "
   ]
  },
  {
   "cell_type": "code",
   "execution_count": 3,
   "id": "e0493fa5",
   "metadata": {},
   "outputs": [],
   "source": [
    "# voc = VOCDataset(\"100examples.csv\", 'images/', 'labels/')\n",
    "# type(voc._test_func(3)[0][0])"
   ]
  },
  {
   "cell_type": "code",
   "execution_count": 4,
   "id": "f1c7f113",
   "metadata": {},
   "outputs": [],
   "source": [
    "# len(voc)"
   ]
  },
  {
   "cell_type": "code",
   "execution_count": 5,
   "id": "6a680cc6",
   "metadata": {},
   "outputs": [],
   "source": [
    "# next(iter(voc))[1]"
   ]
  }
 ],
 "metadata": {
  "kernelspec": {
   "display_name": "ML",
   "language": "python",
   "name": "ml"
  },
  "language_info": {
   "codemirror_mode": {
    "name": "ipython",
    "version": 3
   },
   "file_extension": ".py",
   "mimetype": "text/x-python",
   "name": "python",
   "nbconvert_exporter": "python",
   "pygments_lexer": "ipython3",
   "version": "3.10.6"
  }
 },
 "nbformat": 4,
 "nbformat_minor": 5
}
