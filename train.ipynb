{
 "cells": [
  {
   "cell_type": "code",
   "execution_count": 7,
   "id": "c7687b4a",
   "metadata": {},
   "outputs": [],
   "source": [
    "import torch\n",
    "from torchvision.transforms import transforms\n",
    "from model import Yolov1\n",
    "from loss import YoloLoss\n",
    "import torch.optim as optim\n",
    "from dataset import VOCDataset\n",
    "from tqdm import tqdm\n",
    "from torch.utils.data import DataLoader\n",
    "from utils import (\n",
    "    intersection_over_union,\n",
    "    non_max_suppression,\n",
    "    mean_average_precision,\n",
    "    get_bboxes\n",
    "    )"
   ]
  },
  {
   "cell_type": "code",
   "execution_count": 8,
   "id": "c9df858d",
   "metadata": {},
   "outputs": [],
   "source": [
    "#Hyperparameters etc.\n",
    "DEVICE = \"cuda\" if torch.cuda.is_available else \"cpu\"\n",
    "LEARNING_RATE = 1e-2\n",
    "WEIGHT_DECAY = 0.0\n",
    "LOAD_MODEL = False\n",
    "IMG_DIR = \"data/images\"\n",
    "LABEL_DIR = \"data/labels\"\n",
    "BATCH_SIZE = 16\n",
    "PIN_MEMORY = True\n",
    "EPOCH = 10\n"
   ]
  },
  {
   "cell_type": "code",
   "execution_count": 9,
   "id": "1193fbbf",
   "metadata": {},
   "outputs": [],
   "source": [
    "class Compose:\n",
    "    def __init__(self, transforms):\n",
    "        self.transforms = transforms\n",
    "    def __call__(self, img, bboxes):\n",
    "        for i in self.transforms:\n",
    "            img, bbox = i(img), bboxes\n",
    "            \n",
    "        return img, bbox\n",
    "    \n",
    "transform = Compose([transforms.Resize((448, 448)), transforms.ToTensor()])"
   ]
  },
  {
   "cell_type": "code",
   "execution_count": 10,
   "id": "a452fde0",
   "metadata": {},
   "outputs": [],
   "source": [
    "def train_fn(train_loader, model, optimizer, loss_fn):\n",
    "    loop = tqdm(train_loader, leave=True)\n",
    "    \n",
    "    train_loss = []\n",
    "    for batch_idx, (x, y) in enumerate(loop):\n",
    "        x, y = x.to(DEVICE), y.to(DEVICE)\n",
    "        \n",
    "        y_train = model(x)\n",
    "        loss = loss_fn(y_train, y)\n",
    "        train_loss.append(loss.item())\n",
    "        \n",
    "        optimizer.zero_grad()\n",
    "        loss.backward()\n",
    "        optimizer.step()\n",
    "        \n",
    "#         update progress\n",
    "        loop.set_postfix(loss=loss.item())\n",
    "        \n",
    "    print(f\"train_loss: {sum(train_loss)/len(train_loss)}\")\n",
    "        "
   ]
  },
  {
   "cell_type": "code",
   "execution_count": 11,
   "id": "7302b1b9",
   "metadata": {},
   "outputs": [],
   "source": [
    "def main():\n",
    "    model = Yolov1(split_size=7, num_boxes= 2, num_classes= 20).to(DEVICE)\n",
    "    optimizer = optim.Adam(model.parameters(), lr=LEARNING_RATE, weight_decay=WEIGHT_DECAY)\n",
    "    loss_fn = YoloLoss()\n",
    "    \n",
    "    if LOAD_MODEL:\n",
    "        pass\n",
    "    \n",
    "    \n",
    "    train_dataset = VOCDataset(\n",
    "        \"data/8examples.csv\",\n",
    "        IMG_DIR,\n",
    "        LABEL_DIR,\n",
    "        transform=transform\n",
    "    )\n",
    "    \n",
    "    test_dataset = VOCDataset(\n",
    "        \"data/test.csv\",\n",
    "        IMG_DIR,\n",
    "        LABEL_DIR,\n",
    "        transform=transform\n",
    "    )\n",
    "    \n",
    "    train_dataloader = DataLoader(\n",
    "        dataset=train_dataset,\n",
    "        batch_size=BATCH_SIZE,\n",
    "        pin_memory=PIN_MEMORY,\n",
    "        shuffle = True,\n",
    "        drop_last=False       \n",
    "    \n",
    "    )\n",
    "        \n",
    "    test_dataloader = DataLoader(\n",
    "        dataset=test_dataset,\n",
    "        batch_size=BATCH_SIZE,\n",
    "        pin_memory=PIN_MEMORY,\n",
    "        shuffle = True,\n",
    "        drop_last=True       \n",
    "    \n",
    "    )\n",
    "    \n",
    "    for epoch in range(EPOCH):\n",
    "        pred_bboxes, target_bboxes = get_bboxes(train_dataloader, model, iou_threshold=0.5, threshold=0.4)\n",
    "        \n",
    "        mean_avg_prec = mean_average_precision(pred_bboxes, target_bboxes)\n",
    "           \n",
    "        train_fn(train_dataloader, model, optimizer, loss_fn)\n",
    "        print(f\"train mAP for epoch {EPOCH}: {mean_avg_prec}\")\n",
    "            \n",
    "    "
   ]
  },
  {
   "cell_type": "code",
   "execution_count": null,
   "id": "cc01f766",
   "metadata": {},
   "outputs": [],
   "source": []
  },
  {
   "cell_type": "code",
   "execution_count": null,
   "id": "e5350b6f",
   "metadata": {},
   "outputs": [],
   "source": [
    "ipynb"
   ]
  },
  {
   "cell_type": "code",
   "execution_count": 12,
   "id": "77cabf8c",
   "metadata": {},
   "outputs": [
    {
     "name": "stdout",
     "output_type": "stream",
     "text": [
      "train mAP for epoch 10: 0.0\n"
     ]
    },
    {
     "name": "stderr",
     "output_type": "stream",
     "text": [
      "100%|██████████████████████████████████████████████████████████████████████████| 1/1 [00:00<00:00,  1.85it/s, loss=387]\n"
     ]
    },
    {
     "name": "stdout",
     "output_type": "stream",
     "text": [
      "train_loss: 387.0162658691406\n",
      "train mAP for epoch 10: 0.0\n"
     ]
    },
    {
     "name": "stderr",
     "output_type": "stream",
     "text": [
      "100%|██████████████████████████████████████████████████████████████████████| 1/1 [00:00<00:00,  1.96it/s, loss=7.15e+5]\n"
     ]
    },
    {
     "name": "stdout",
     "output_type": "stream",
     "text": [
      "train_loss: 714837.375\n",
      "train mAP for epoch 10: 0.0\n"
     ]
    },
    {
     "name": "stderr",
     "output_type": "stream",
     "text": [
      "100%|██████████████████████████████████████████████████████████████████████| 1/1 [00:00<00:00,  1.93it/s, loss=2.25e+6]\n"
     ]
    },
    {
     "name": "stdout",
     "output_type": "stream",
     "text": [
      "train_loss: 2252548.75\n",
      "train mAP for epoch 10: 0.0\n"
     ]
    },
    {
     "name": "stderr",
     "output_type": "stream",
     "text": [
      "100%|██████████████████████████████████████████████████████████████████████| 1/1 [00:00<00:00,  1.97it/s, loss=3.12e+5]\n"
     ]
    },
    {
     "name": "stdout",
     "output_type": "stream",
     "text": [
      "train_loss: 312039.09375\n",
      "train mAP for epoch 10: 0.0\n"
     ]
    },
    {
     "name": "stderr",
     "output_type": "stream",
     "text": [
      "100%|██████████████████████████████████████████████████████████████████████| 1/1 [00:00<00:00,  1.97it/s, loss=89167.5]\n"
     ]
    },
    {
     "name": "stdout",
     "output_type": "stream",
     "text": [
      "train_loss: 89167.5\n",
      "train mAP for epoch 10: 0.0\n"
     ]
    },
    {
     "name": "stderr",
     "output_type": "stream",
     "text": [
      "100%|██████████████████████████████████████████████████████████████████████| 1/1 [00:00<00:00,  1.94it/s, loss=7.42e+4]\n"
     ]
    },
    {
     "name": "stdout",
     "output_type": "stream",
     "text": [
      "train_loss: 74224.2578125\n",
      "train mAP for epoch 10: 0.0\n"
     ]
    },
    {
     "name": "stderr",
     "output_type": "stream",
     "text": [
      "100%|██████████████████████████████████████████████████████████████████████| 1/1 [00:00<00:00,  1.90it/s, loss=1.87e+4]\n"
     ]
    },
    {
     "name": "stdout",
     "output_type": "stream",
     "text": [
      "train_loss: 18673.888671875\n",
      "train mAP for epoch 10: 0.0\n"
     ]
    },
    {
     "name": "stderr",
     "output_type": "stream",
     "text": [
      "100%|██████████████████████████████████████████████████████████████████████| 1/1 [00:00<00:00,  1.94it/s, loss=2.13e+4]\n"
     ]
    },
    {
     "name": "stdout",
     "output_type": "stream",
     "text": [
      "train_loss: 21302.40234375\n",
      "train mAP for epoch 10: 0.0\n"
     ]
    },
    {
     "name": "stderr",
     "output_type": "stream",
     "text": [
      "100%|██████████████████████████████████████████████████████████████████████| 1/1 [00:00<00:00,  1.97it/s, loss=2.36e+4]\n"
     ]
    },
    {
     "name": "stdout",
     "output_type": "stream",
     "text": [
      "train_loss: 23589.96484375\n",
      "train mAP for epoch 10: 0.0\n"
     ]
    },
    {
     "name": "stderr",
     "output_type": "stream",
     "text": [
      "100%|██████████████████████████████████████████████████████████████████████| 1/1 [00:00<00:00,  1.92it/s, loss=4.47e+4]"
     ]
    },
    {
     "name": "stdout",
     "output_type": "stream",
     "text": [
      "train_loss: 44687.234375\n"
     ]
    },
    {
     "name": "stderr",
     "output_type": "stream",
     "text": [
      "\n"
     ]
    }
   ],
   "source": [
    "if __name__ == \"__main__\":\n",
    "    main()"
   ]
  }
 ],
 "metadata": {
  "kernelspec": {
   "display_name": "Python 3 (ipykernel)",
   "language": "python",
   "name": "python3"
  },
  "language_info": {
   "codemirror_mode": {
    "name": "ipython",
    "version": 3
   },
   "file_extension": ".py",
   "mimetype": "text/x-python",
   "name": "python",
   "nbconvert_exporter": "python",
   "pygments_lexer": "ipython3",
   "version": "3.9.12"
  }
 },
 "nbformat": 4,
 "nbformat_minor": 5
}
